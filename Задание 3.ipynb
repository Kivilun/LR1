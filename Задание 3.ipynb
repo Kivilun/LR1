{
 "cells": [
  {
   "cell_type": "code",
   "execution_count": 1,
   "id": "07a8a630-3087-47d0-90d1-64791997c77b",
   "metadata": {},
   "outputs": [
    {
     "name": "stdout",
     "output_type": "stream",
     "text": [
      "CPU times: total: 0 ns\n",
      "Wall time: 1 s\n",
      "101 ms ± 368 μs per loop (mean ± std. dev. of 7 runs, 10 loops each)\n"
     ]
    },
    {
     "name": "stderr",
     "output_type": "stream",
     "text": [
      "UsageError: Line magic function `%%writefile` not found.\n"
     ]
    }
   ],
   "source": [
    "# 1. Вывести список всех доступных магических команд\n",
    "%lsmagic\n",
    "\n",
    "# 2. Измерить время выполнения кода\n",
    "import time\n",
    "\n",
    "%time time.sleep(1)  # Одноразовый замер времени выполнения\n",
    "%timeit time.sleep(0.1)  # Среднее время выполнения нескольких запусков\n",
    "\n",
    "# 3. Создать Python-скрипт и выполнить его\n",
    "%%writefile script.py\n",
    "print(\"Привет, Jupyter!\")\n",
    "\n",
    "!python script.py  # Запуск скрипта\n",
    "\n",
    "# 4. Вывести список файлов в текущей директории\n",
    "%ls\n",
    "\n",
    "# 5. Просмотреть историю команд\n",
    "%history "
   ]
  }
 ],
 "metadata": {
  "kernelspec": {
   "display_name": "Python [conda env:base] *",
   "language": "python",
   "name": "conda-base-py"
  },
  "language_info": {
   "codemirror_mode": {
    "name": "ipython",
    "version": 3
   },
   "file_extension": ".py",
   "mimetype": "text/x-python",
   "name": "python",
   "nbconvert_exporter": "python",
   "pygments_lexer": "ipython3",
   "version": "3.12.7"
  }
 },
 "nbformat": 4,
 "nbformat_minor": 5
}
