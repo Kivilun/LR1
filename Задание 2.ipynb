{
 "cells": [
  {
   "cell_type": "code",
   "execution_count": 22,
   "id": "e695c561-b0e2-4119-828f-50570f7f1a11",
   "metadata": {},
   "outputs": [
    {
     "name": "stdout",
     "output_type": "stream",
     "text": [
      "Содержимое файла:\n",
      " Проверка\n",
      "работы кода\n",
      "\n",
      "Файл существует: True\n",
      "Файл удален.\n"
     ]
    }
   ],
   "source": [
    "import os\n",
    "\n",
    "with open(\"example.txt\", \"w\") as f:\n",
    "    f.write(\"Проверка\\n\")\n",
    "    f.write(\"работы кода\\n\")\n",
    "\n",
    "with open(\"example.txt\", \"r\") as f:\n",
    "    content = f.read()\n",
    "    print(\"Содержимое файла:\\n\", content)\n",
    "    \n",
    "# Проверка существования файла\n",
    "print(\"Файл существует:\", os.path.exists(\"example.txt\"))\n",
    "\n",
    "# Удаление файла\n",
    "os.remove(\"example.txt\")\n",
    "print(\"Файл удален.\")"
   ]
  }
 ],
 "metadata": {
  "kernelspec": {
   "display_name": "Python [conda env:base] *",
   "language": "python",
   "name": "conda-base-py"
  },
  "language_info": {
   "codemirror_mode": {
    "name": "ipython",
    "version": 3
   },
   "file_extension": ".py",
   "mimetype": "text/x-python",
   "name": "python",
   "nbconvert_exporter": "python",
   "pygments_lexer": "ipython3",
   "version": "3.12.7"
  }
 },
 "nbformat": 4,
 "nbformat_minor": 5
}
