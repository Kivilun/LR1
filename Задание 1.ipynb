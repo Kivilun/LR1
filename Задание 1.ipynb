{
 "cells": [
  {
   "cell_type": "markdown",
   "id": "2e654f16-dcba-4600-aae8-f05935eeb211",
   "metadata": {},
   "source": [
    "## Практическое задание №1\n",
    "\n",
    "**Выполнил студент**, *Коноплёв И*\n",
    "\n",
    "Список:\n",
    " - Пример\n",
    " - Маркированного\n",
    " - Списка\n",
    "\n",
    "Список:\n",
    "1. Пример\n",
    "2. Нумерованного\n",
    "3. Списка\n",
    "\n",
    "Формула: $ a^2 + b^2 = c^2 $\n",
    "\n",
    "![Описание](https://avatars.mds.yandex.net/i?id=78d3d91e376ab49d78670c787a03a1631b8a93e8-7663734-images-thumbs&n=13)"
   ]
  },
  {
   "cell_type": "code",
   "execution_count": 4,
   "id": "35839037-a20d-4ac4-ad05-335fc7c35d65",
   "metadata": {},
   "outputs": [
    {
     "name": "stdin",
     "output_type": "stream",
     "text": [
      "Введите ваше имя:  Иван\n"
     ]
    },
    {
     "name": "stdout",
     "output_type": "stream",
     "text": [
      "Привет, Иван! Добро пожаловать в JupyterLab / Google Colab!\n"
     ]
    }
   ],
   "source": [
    "имя = input(\"Введите ваше имя: \")\n",
    "\n",
    "print(f\"Привет, {имя}! Добро пожаловать в JupyterLab / Google Colab!\")"
   ]
  },
  {
   "cell_type": "markdown",
   "id": "efeeee3f-649f-41a5-9b5e-1455c5543a3d",
   "metadata": {},
   "source": [
    "Формула индивидуального задания(Вариант 25): $ \\log_b(xy) = \\log_b(x) + \\log_b(y) $"
   ]
  }
 ],
 "metadata": {
  "kernelspec": {
   "display_name": "Python [conda env:base] *",
   "language": "python",
   "name": "conda-base-py"
  },
  "language_info": {
   "codemirror_mode": {
    "name": "ipython",
    "version": 3
   },
   "file_extension": ".py",
   "mimetype": "text/x-python",
   "name": "python",
   "nbconvert_exporter": "python",
   "pygments_lexer": "ipython3",
   "version": "3.12.7"
  }
 },
 "nbformat": 4,
 "nbformat_minor": 5
}
