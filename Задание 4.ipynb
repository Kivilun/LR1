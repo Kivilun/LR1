{
 "cells": [
  {
   "cell_type": "code",
   "execution_count": 5,
   "id": "e6d09633-7579-4117-8008-58ae1677d41e",
   "metadata": {},
   "outputs": [
    {
     "name": "stdout",
     "output_type": "stream",
     "text": [
      " ’®¬ ў гбва®©бвўҐ C ­Ґ Ё¬ҐҐв ¬ҐвЄЁ.\n",
      " ‘ҐаЁ©­л© ­®¬Ґа в®¬ : 2216-4BE8\n",
      "\n",
      " ‘®¤Ґа¦Ё¬®Ґ Ї ЇЄЁ C:\\Users\\vkono\\notebooks\n",
      "\n",
      "12.03.2025  09:22    <DIR>          .\n",
      "12.03.2025  08:11    <DIR>          ..\n",
      "12.03.2025  09:22    <DIR>          .ipynb_checkpoints\n",
      "12.03.2025  09:15             2я087 1.ipynb\n",
      "05.03.2025  09:21             1я543 2.ipynb\n",
      "12.03.2025  09:18             1я913 3.ipynb\n",
      "12.03.2025  09:22    <DIR>          test_folder\n",
      "12.03.2025  09:22               337 Untitled.ipynb\n",
      "12.03.2025  07:01            41я561 ЏаЁ¬Ґа.ipynb\n",
      "18.02.2025  21:23             2я042 ЏаЁ¬Ґа1.ipynb\n",
      "12.03.2025  09:09            28я714 ЏаЁ¬Ґа2.ipynb\n",
      "               7 д ©«®ў         78я197 Ў ©в\n",
      "               4 Ї Ї®Є  295я945я809я920 Ў ©в бў®Ў®¤­®\n",
      "C:\\Users\\vkono\\anaconda3\\python.exe\n",
      "C:\\Users\\vkono\\AppData\\Local\\Microsoft\\WindowsApps\\python.exe\n"
     ]
    },
    {
     "name": "stderr",
     "output_type": "stream",
     "text": [
      "Џ®¤Ї ЇЄ  Ё«Ё д ©« test_folder г¦Ґ бгйҐбвўгҐв.\n"
     ]
    },
    {
     "name": "stdout",
     "output_type": "stream",
     "text": [
      " ’®¬ ў гбва®©бвўҐ C ­Ґ Ё¬ҐҐв ¬ҐвЄЁ.\n",
      " ‘ҐаЁ©­л© ­®¬Ґа в®¬ : 2216-4BE8\n",
      "\n",
      " ‘®¤Ґа¦Ё¬®Ґ Ї ЇЄЁ C:\\Users\\vkono\\notebooks\n",
      "\n",
      "12.03.2025  09:22    <DIR>          .\n",
      "12.03.2025  08:11    <DIR>          ..\n",
      "12.03.2025  09:22    <DIR>          .ipynb_checkpoints\n",
      "12.03.2025  09:15             2я087 1.ipynb\n",
      "05.03.2025  09:21             1я543 2.ipynb\n",
      "12.03.2025  09:18             1я913 3.ipynb\n",
      "12.03.2025  09:22    <DIR>          test_folder\n",
      "12.03.2025  09:22               337 Untitled.ipynb\n",
      "12.03.2025  07:01            41я561 ЏаЁ¬Ґа.ipynb\n",
      "18.02.2025  21:23             2я042 ЏаЁ¬Ґа1.ipynb\n",
      "12.03.2025  09:09            28я714 ЏаЁ¬Ґа2.ipynb\n",
      "               7 д ©«®ў         78я197 Ў ©в\n",
      "               4 Ї Ї®Є  295я945я760я768 Ў ©в бў®Ў®¤­®\n",
      " ’®¬ ў гбва®©бвўҐ C ­Ґ Ё¬ҐҐв ¬ҐвЄЁ.\n",
      " ‘ҐаЁ©­л© ­®¬Ґа в®¬ : 2216-4BE8\n",
      "\n",
      " ‘®¤Ґа¦Ё¬®Ґ Ї ЇЄЁ C:\\Users\\vkono\\notebooks\n",
      "\n",
      "12.03.2025  09:22    <DIR>          .\n",
      "12.03.2025  08:11    <DIR>          ..\n",
      "12.03.2025  09:22    <DIR>          .ipynb_checkpoints\n",
      "12.03.2025  09:15             2я087 1.ipynb\n",
      "05.03.2025  09:21             1я543 2.ipynb\n",
      "12.03.2025  09:18             1я913 3.ipynb\n",
      "12.03.2025  09:22                26 example.txt\n",
      "12.03.2025  09:22    <DIR>          test_folder\n",
      "12.03.2025  09:22               337 Untitled.ipynb\n",
      "12.03.2025  07:01            41я561 ЏаЁ¬Ґа.ipynb\n",
      "18.02.2025  21:23             2я042 ЏаЁ¬Ґа1.ipynb\n",
      "12.03.2025  09:09            28я714 ЏаЁ¬Ґа2.ipynb\n",
      "               8 д ©«®ў         78я223 Ў ©в\n",
      "               4 Ї Ї®Є  295я945я760я768 Ў ©в бў®Ў®¤­®\n",
      "ЏҐаҐ¬ҐйҐ­® д ©«®ў:         1.\n",
      " ’®¬ ў гбва®©бвўҐ C ­Ґ Ё¬ҐҐв ¬ҐвЄЁ.\n",
      " ‘ҐаЁ©­л© ­®¬Ґа в®¬ : 2216-4BE8\n",
      "\n",
      " ‘®¤Ґа¦Ё¬®Ґ Ї ЇЄЁ C:\\Users\\vkono\\notebooks\\test_folder\n",
      "\n",
      "12.03.2025  09:22    <DIR>          .\n",
      "12.03.2025  09:22    <DIR>          ..\n",
      "12.03.2025  09:22                26 example.txt\n",
      "               1 д ©«®ў             26 Ў ©в\n",
      "               2 Ї Ї®Є  295я945я760я768 Ў ©в бў®Ў®¤­®\n",
      " ’®¬ ў гбва®©бвўҐ C ­Ґ Ё¬ҐҐв ¬ҐвЄЁ.\n",
      " ‘ҐаЁ©­л© ­®¬Ґа в®¬ : 2216-4BE8\n",
      "\n",
      " ‘®¤Ґа¦Ё¬®Ґ Ї ЇЄЁ C:\\Users\\vkono\\notebooks\\test_folder\n",
      "\n",
      "12.03.2025  09:22    <DIR>          .\n",
      "12.03.2025  09:22    <DIR>          ..\n",
      "               0 д ©«®ў              0 Ў ©в\n",
      "               2 Ї Ї®Є  295я945я760я768 Ў ©в бў®Ў®¤­®\n",
      "\f",
      "\n"
     ]
    }
   ],
   "source": [
    "# 1. Вывод списка файлов в текущей директории\n",
    "!dir\n",
    "\n",
    "# 2. Проверка, какой Python используется\n",
    "!where python\n",
    "\n",
    "# 3. Создание папки test_folder и проверка\n",
    "!mkdir test_folder\n",
    "!dir\n",
    "\n",
    "# 4. Перемещение и удаление файла\n",
    "!echo This is an example file > example.txt\n",
    "!dir\n",
    "!move example.txt test_folder/\n",
    "!dir test_folder\n",
    "!del test_folder\\example.txt\n",
    "!dir test_folder\n",
    "\n",
    "# 5. Очистка вывода\n",
    "%clear"
   ]
  },
  {
   "cell_type": "code",
   "execution_count": null,
   "id": "e6de27c0-3abd-4389-b927-ceda49cec3db",
   "metadata": {},
   "outputs": [],
   "source": []
  }
 ],
 "metadata": {
  "kernelspec": {
   "display_name": "Python [conda env:base] *",
   "language": "python",
   "name": "conda-base-py"
  },
  "language_info": {
   "codemirror_mode": {
    "name": "ipython",
    "version": 3
   },
   "file_extension": ".py",
   "mimetype": "text/x-python",
   "name": "python",
   "nbconvert_exporter": "python",
   "pygments_lexer": "ipython3",
   "version": "3.12.7"
  }
 },
 "nbformat": 4,
 "nbformat_minor": 5
}
