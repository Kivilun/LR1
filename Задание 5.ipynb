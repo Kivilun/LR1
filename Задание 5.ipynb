{
  "cells": [
    {
      "cell_type": "code",
      "source": [
        "from google.colab import drive\n",
        "drive.mount('/content/drive')"
      ],
      "metadata": {
        "id": "uYnj971IlVK-",
        "outputId": "3e33928e-64db-43b0-8928-ac452356a730",
        "colab": {
          "base_uri": "https://localhost:8080/"
        }
      },
      "execution_count": 1,
      "outputs": [
        {
          "output_type": "stream",
          "name": "stdout",
          "text": [
            "Mounted at /content/drive\n"
          ]
        }
      ]
    },
    {
      "cell_type": "code",
      "source": [
        "!ls /content/drive/MyDrive"
      ],
      "metadata": {
        "id": "e1kIlW7KlcS3"
      },
      "execution_count": 2,
      "outputs": []
    },
    {
      "cell_type": "code",
      "source": [
        "from google.colab import drive\n",
        "# Подключение Google Drive\n",
        "drive.mount('/content/drive')\n",
        "# Запись текста в файл\n",
        "file_path = \"/content/drive/MyDrive/my_text_file.txt\"\n",
        "with open(file_path, \"w\") as f:\n",
        "  f.write(\"Это тестовый файл, сохраненный в Google Drive.\\n\")\n",
        "  f.write(\"Вторая строка текста.\")\n",
        "print(\"Файл успешно сохранен в Google Drive.\")\n",
        "# Чтение файла\n",
        "with open(file_path, \"r\") as f:\n",
        "  content = f.read()\n",
        "  print(\"Содержимое файла:\\n\", content)\n",
        "# Создание CSV вручную\n",
        "students = [\n",
        "  [\"Иванов И.И.\", 20, \"ИВТ-101\"],\n",
        "  [\"Петров П.П.\", 22, \"ИВТ-102\"],\n",
        "  [\"Сидорова А.А.\", 21, \"ИВТ-103\"]\n",
        "]\n",
        "csv_path = \"/content/drive/MyDrive/students.csv\"\n",
        "with open(csv_path, \"w\") as f:\n",
        "  for student in students:\n",
        "    f.write(\",\".join(map(str, student)) + \"\\n\")\n",
        "print(\"Файл students.csv успешно сохранен в Google Drive.\")"
      ],
      "metadata": {
        "id": "gfk3AzAGlh6Y",
        "outputId": "497bf909-4c51-426d-d0b2-81578855f4b4",
        "colab": {
          "base_uri": "https://localhost:8080/"
        }
      },
      "execution_count": 3,
      "outputs": [
        {
          "output_type": "stream",
          "name": "stdout",
          "text": [
            "Drive already mounted at /content/drive; to attempt to forcibly remount, call drive.mount(\"/content/drive\", force_remount=True).\n",
            "Файл успешно сохранен в Google Drive.\n",
            "Содержимое файла:\n",
            " Это тестовый файл, сохраненный в Google Drive.\n",
            "Вторая строка текста.\n",
            "Файл students.csv успешно сохранен в Google Drive.\n"
          ]
        }
      ]
    }
  ],
  "metadata": {
    "colab": {
      "name": "Добро пожаловать в Colaboratory!",
      "provenance": []
    },
    "kernelspec": {
      "display_name": "Python 3",
      "name": "python3"
    }
  },
  "nbformat": 4,
  "nbformat_minor": 0
}