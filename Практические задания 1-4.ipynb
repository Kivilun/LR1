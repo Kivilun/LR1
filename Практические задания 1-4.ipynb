{
 "cells": [
  {
   "cell_type": "markdown",
   "id": "d0f851c4-1c96-4cee-81f2-aa685086a214",
   "metadata": {},
   "source": [
    "# Практическая работа №1\n",
    "\n",
    "## Задание 1. Создайте новую **Markdown-ячейку** и:\n",
    "\n",
    "- Напишите заголовок `\"Практическое задание №1\"`.\n",
    "- Добавьте **жирный** и *курсивный* текст.\n",
    "- Создайте нумерованный и маркированный списки.\n",
    "- Вставьте согласно индивидуального задания, например:  \n",
    "  $$\n",
    "  a^2 + b^2 = c^2\n",
    "  $$\n",
    "- Вставьте изображение через `![Описание](URL)`.\n",
    "\n",
    "Создайте ячейку **Python-кода** и:\n",
    "\n",
    "- Запросите у пользователя его имя с помощью `input()`.\n",
    "- Выведите приветствие: `\"Привет, <имя>! Добро пожаловать в JupyterLab / Google Colab!\"`.\n",
    "- Запустите ячейку (`Shift + Enter`)."
   ]
  },
  {
   "cell_type": "markdown",
   "id": "2e654f16-dcba-4600-aae8-f05935eeb211",
   "metadata": {},
   "source": [
    "## Практическое задание №1\n",
    "\n",
    "**Выполнил студент**, *Коноплёв И*\n",
    "\n",
    "Список:\n",
    " - Пример\n",
    " - Маркированного\n",
    " - Списка\n",
    "\n",
    "Список:\n",
    "1. Пример\n",
    "2. Нумерованного\n",
    "3. Списка\n",
    "\n",
    "Формула: $ a^2 + b^2 = c^2 $\n",
    "\n",
    "![Описание](https://avatars.mds.yandex.net/i?id=78d3d91e376ab49d78670c787a03a1631b8a93e8-7663734-images-thumbs&n=13)"
   ]
  },
  {
   "cell_type": "code",
   "execution_count": 4,
   "id": "35839037-a20d-4ac4-ad05-335fc7c35d65",
   "metadata": {},
   "outputs": [
    {
     "name": "stdin",
     "output_type": "stream",
     "text": [
      "Введите ваше имя:  Иван\n"
     ]
    },
    {
     "name": "stdout",
     "output_type": "stream",
     "text": [
      "Привет, Иван! Добро пожаловать в JupyterLab / Google Colab!\n"
     ]
    }
   ],
   "source": [
    "имя = input(\"Введите ваше имя: \")\n",
    "\n",
    "print(f\"Привет, {имя}! Добро пожаловать в JupyterLab / Google Colab!\")"
   ]
  },
  {
   "cell_type": "markdown",
   "id": "efeeee3f-649f-41a5-9b5e-1455c5543a3d",
   "metadata": {},
   "source": [
    "Формула индивидуального задания(Вариант 25): $ \\log_b(xy) = \\log_b(x) + \\log_b(y) $"
   ]
  },
  {
   "cell_type": "markdown",
   "id": "95c0bafb-89db-4af0-be56-1a1ff53b5729",
   "metadata": {},
   "source": [
    "## Задание 2\n",
    "\n",
    "1. Создайте и сохраните текстовый файл с помощью `open()`.\n",
    "2. Запишите в него несколько строк текста.\n",
    "3. Закройте файл и затем откройте его снова, считав содержимое и выведя на экран.\n",
    "4. Проверьте, существует ли файл, используя `os.path.exists()`.\n",
    "5. Удалите файл с помощью модуля `os`.\n"
   ]
  },
  {
   "cell_type": "code",
   "execution_count": 12,
   "id": "82b2940f-59f3-4364-9630-1d9b3f0aaabe",
   "metadata": {},
   "outputs": [
    {
     "name": "stdout",
     "output_type": "stream",
     "text": [
      "Содержимое файла:\n",
      " Проверка\n",
      "работы кода\n",
      "\n",
      "Файл существует: True\n",
      "Файл удален.\n"
     ]
    }
   ],
   "source": [
    "import os\n",
    "\n",
    "with open(\"example.txt\", \"w\") as f:\n",
    "    f.write(\"Проверка\\n\")\n",
    "    f.write(\"работы кода\\n\")\n",
    "\n",
    "with open(\"example.txt\", \"r\") as f:\n",
    "    content = f.read()\n",
    "    print(\"Содержимое файла:\\n\", content)\n",
    "    \n",
    "# Проверка существования файла\n",
    "print(\"Файл существует:\", os.path.exists(\"example.txt\"))\n",
    "\n",
    "# Удаление файла\n",
    "os.remove(\"example.txt\")\n",
    "print(\"Файл удален.\")"
   ]
  },
  {
   "cell_type": "markdown",
   "id": "e2afafaf-4b2e-4a08-a2da-41ae03129635",
   "metadata": {},
   "source": [
    "## Задание 3\n",
    "1. Выведите список всех доступных магических команд (`%lsmagic`).\n",
    "2. Используйте `%time` и `%%timeit` для измерения времени выполнения кода.\n",
    "3. Создайте Python-скрипт в Jupyter (`%%writefile script.py`) и выполните его через `!python script.py`.\n",
    "4. Выведите список файлов в текущей директории с помощью `%ls`.\n",
    "5. Используйте `%history` для просмотра истории команд."
   ]
  },
  {
   "cell_type": "code",
   "execution_count": 18,
   "id": "397c5e04-6820-43af-ae26-236009e7f2f3",
   "metadata": {},
   "outputs": [
    {
     "name": "stdout",
     "output_type": "stream",
     "text": [
      "CPU times: total: 0 ns\n",
      "Wall time: 1.01 s\n",
      "101 ms ± 1.73 ms per loop (mean ± std. dev. of 7 runs, 10 loops each)\n"
     ]
    },
    {
     "name": "stderr",
     "output_type": "stream",
     "text": [
      "UsageError: Line magic function `%%writefile` not found.\n"
     ]
    }
   ],
   "source": [
    "# 1. список всех доступных магических команд\n",
    "%lsmagic\n",
    "\n",
    "# 2. время выполнения кода\n",
    "import time\n",
    "\n",
    "%time time.sleep(1)\n",
    "%timeit time.sleep(0.1)\n",
    "\n",
    "# 3. Python-скрипт\n",
    "%%writefile script.py\n",
    "print(\"Привет, Jupyter!\")\n",
    "\n",
    "!python script.py\n",
    "\n",
    "# 4. список файлов в текущей директории\n",
    "%ls\n",
    "\n",
    "# 5. история команд\n",
    "%history "
   ]
  },
  {
   "cell_type": "markdown",
   "id": "440ed19d-df8a-486e-b53c-5faab0c47675",
   "metadata": {},
   "source": [
    "## Задание 4\n",
    "1. Выведите список файлов в текущей директории с помощью `!ls`.\n",
    "2. Проверьте, какой Python используется (`!which python`).\n",
    "3. Создайте папку `test_folder` (`!mkdir test_folder`) и убедитесь, что она появилась.\n",
    "4. Переместите файл в новую папку и удалите его.\n",
    "5. Очистите вывод в ячейке (`!clear`)."
   ]
  },
  {
   "cell_type": "code",
   "execution_count": 21,
   "id": "d4f6b35c-02ae-44f7-b6e6-b572c44c071e",
   "metadata": {},
   "outputs": [
    {
     "name": "stdout",
     "output_type": "stream",
     "text": [
      " ’®¬ ў гбва®©бвўҐ C ­Ґ Ё¬ҐҐв ¬ҐвЄЁ.\n",
      " ‘ҐаЁ©­л© ­®¬Ґа в®¬ : 2216-4BE8\n",
      "\n",
      " ‘®¤Ґа¦Ё¬®Ґ Ї ЇЄЁ C:\\Users\\vkono\\‹ЂЃ›\\1\n",
      "\n",
      "16.04.2025  09:00    <DIR>          .\n",
      "02.04.2025  08:12    <DIR>          ..\n",
      "16.04.2025  08:55    <DIR>          .ipynb_checkpoints\n",
      "16.04.2025  09:00             7я126 1.ipynb\n",
      "12.03.2025  09:18             1я913 3.ipynb\n",
      "25.03.2025  21:32             6я258 4.ipynb\n",
      "12.03.2025  07:01            41я561 ЏаЁ¬Ґа.ipynb\n",
      "18.02.2025  21:23             2я042 ЏаЁ¬Ґа1.ipynb\n",
      "25.03.2025  21:41            31я375 ЏаЁ¬Ґа2.ipynb\n",
      "               6 д ©«®ў         90я275 Ў ©в\n",
      "               3 Ї Ї®Є  298я769я362я944 Ў ©в бў®Ў®¤­®\n",
      "C:\\Users\\vkono\\anaconda3\\python.exe\n",
      "C:\\Users\\vkono\\AppData\\Local\\Microsoft\\WindowsApps\\python.exe\n",
      " ’®¬ ў гбва®©бвўҐ C ­Ґ Ё¬ҐҐв ¬ҐвЄЁ.\n",
      " ‘ҐаЁ©­л© ­®¬Ґа в®¬ : 2216-4BE8\n",
      "\n",
      " ‘®¤Ґа¦Ё¬®Ґ Ї ЇЄЁ C:\\Users\\vkono\\‹ЂЃ›\\1\n",
      "\n",
      "16.04.2025  09:01    <DIR>          .\n",
      "02.04.2025  08:12    <DIR>          ..\n",
      "16.04.2025  08:55    <DIR>          .ipynb_checkpoints\n",
      "16.04.2025  09:00             7я126 1.ipynb\n",
      "12.03.2025  09:18             1я913 3.ipynb\n",
      "25.03.2025  21:32             6я258 4.ipynb\n",
      "16.04.2025  09:01    <DIR>          test_folder\n",
      "12.03.2025  07:01            41я561 ЏаЁ¬Ґа.ipynb\n",
      "18.02.2025  21:23             2я042 ЏаЁ¬Ґа1.ipynb\n",
      "25.03.2025  21:41            31я375 ЏаЁ¬Ґа2.ipynb\n",
      "               6 д ©«®ў         90я275 Ў ©в\n",
      "               4 Ї Ї®Є  298я769я293я312 Ў ©в бў®Ў®¤­®\n",
      " ’®¬ ў гбва®©бвўҐ C ­Ґ Ё¬ҐҐв ¬ҐвЄЁ.\n",
      " ‘ҐаЁ©­л© ­®¬Ґа в®¬ : 2216-4BE8\n",
      "\n",
      " ‘®¤Ґа¦Ё¬®Ґ Ї ЇЄЁ C:\\Users\\vkono\\‹ЂЃ›\\1\n",
      "\n",
      "16.04.2025  09:01    <DIR>          .\n",
      "02.04.2025  08:12    <DIR>          ..\n",
      "16.04.2025  08:55    <DIR>          .ipynb_checkpoints\n",
      "16.04.2025  09:00             7я126 1.ipynb\n",
      "12.03.2025  09:18             1я913 3.ipynb\n",
      "25.03.2025  21:32             6я258 4.ipynb\n",
      "16.04.2025  09:01                26 example.txt\n",
      "16.04.2025  09:01    <DIR>          test_folder\n",
      "12.03.2025  07:01            41я561 ЏаЁ¬Ґа.ipynb\n",
      "18.02.2025  21:23             2я042 ЏаЁ¬Ґа1.ipynb\n",
      "25.03.2025  21:41            31я375 ЏаЁ¬Ґа2.ipynb\n",
      "               7 д ©«®ў         90я301 Ў ©в\n",
      "               4 Ї Ї®Є  298я769я293я312 Ў ©в бў®Ў®¤­®\n",
      "ЏҐаҐ¬ҐйҐ­® д ©«®ў:         1.\n",
      " ’®¬ ў гбва®©бвўҐ C ­Ґ Ё¬ҐҐв ¬ҐвЄЁ.\n",
      " ‘ҐаЁ©­л© ­®¬Ґа в®¬ : 2216-4BE8\n",
      "\n",
      " ‘®¤Ґа¦Ё¬®Ґ Ї ЇЄЁ C:\\Users\\vkono\\‹ЂЃ›\\1\\test_folder\n",
      "\n",
      "16.04.2025  09:01    <DIR>          .\n",
      "16.04.2025  09:01    <DIR>          ..\n",
      "16.04.2025  09:01                26 example.txt\n",
      "               1 д ©«®ў             26 Ў ©в\n",
      "               2 Ї Ї®Є  298я769я293я312 Ў ©в бў®Ў®¤­®\n",
      " ’®¬ ў гбва®©бвўҐ C ­Ґ Ё¬ҐҐв ¬ҐвЄЁ.\n",
      " ‘ҐаЁ©­л© ­®¬Ґа в®¬ : 2216-4BE8\n",
      "\n",
      " ‘®¤Ґа¦Ё¬®Ґ Ї ЇЄЁ C:\\Users\\vkono\\‹ЂЃ›\\1\\test_folder\n",
      "\n",
      "16.04.2025  09:01    <DIR>          .\n",
      "16.04.2025  09:01    <DIR>          ..\n",
      "               0 д ©«®ў              0 Ў ©в\n",
      "               2 Ї Ї®Є  298я769я293я312 Ў ©в бў®Ў®¤­®\n",
      "\f",
      "\n"
     ]
    }
   ],
   "source": [
    "!dir\n",
    "\n",
    "!where python\n",
    "\n",
    "!mkdir test_folder\n",
    "!dir\n",
    "\n",
    "!echo This is an example file > example.txt\n",
    "!dir\n",
    "!move example.txt test_folder/\n",
    "!dir test_folder\n",
    "!del test_folder\\example.txt\n",
    "!dir test_folder\n",
    "\n",
    "%clear"
   ]
  },
  {
   "cell_type": "code",
   "execution_count": null,
   "id": "5903ab5a-1765-4d61-8d7e-51ba2515043c",
   "metadata": {},
   "outputs": [],
   "source": []
  }
 ],
 "metadata": {
  "kernelspec": {
   "display_name": "Python [conda env:base] *",
   "language": "python",
   "name": "conda-base-py"
  },
  "language_info": {
   "codemirror_mode": {
    "name": "ipython",
    "version": 3
   },
   "file_extension": ".py",
   "mimetype": "text/x-python",
   "name": "python",
   "nbconvert_exporter": "python",
   "pygments_lexer": "ipython3",
   "version": "3.12.7"
  }
 },
 "nbformat": 4,
 "nbformat_minor": 5
}
